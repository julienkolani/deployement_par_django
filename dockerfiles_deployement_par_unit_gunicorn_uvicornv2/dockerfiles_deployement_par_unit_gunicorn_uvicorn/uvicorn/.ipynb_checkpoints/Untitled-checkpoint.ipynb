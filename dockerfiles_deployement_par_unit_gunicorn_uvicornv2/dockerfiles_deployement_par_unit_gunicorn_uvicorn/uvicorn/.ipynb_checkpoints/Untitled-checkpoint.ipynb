{
 "cells": [
  {
   "cell_type": "code",
   "execution_count": 1,
   "id": "da07854e-552e-431e-8c71-7a4e90a6ffd2",
   "metadata": {},
   "outputs": [
    {
     "name": "stdout",
     "output_type": "stream",
     "text": [
      "Projets disponibles dans le répertoire courant:\n",
      "1. .ipynb_checkpoints\n",
      "2. test_app\n"
     ]
    },
    {
     "name": "stdin",
     "output_type": "stream",
     "text": [
      "Choisissez un numéro de projet (1, 2, ...) :  2\n"
     ]
    },
    {
     "name": "stdout",
     "output_type": "stream",
     "text": [
      "Fichier Dockerfile généré avec succès.\n"
     ]
    }
   ],
   "source": [
    "import os\n",
    "\n",
    "# Variables\n",
    "python_version = \"3.9.18-slim-bullseye\"\n",
    "workdir = \"/home/app\"\n",
    "hostname = \"www.exemple_test.com\"\n",
    "\n",
    "def get_project_choice(project_files):\n",
    "    while True:\n",
    "        try:\n",
    "            choice = int(input(\"Choisissez un numéro de projet (1, 2, ...) : \"))\n",
    "            if 1 <= choice <= len(project_files):\n",
    "                return project_files[choice - 1]\n",
    "            else:\n",
    "                print(\"Choix invalide. Veuillez choisir un numéro valide.\")\n",
    "        except ValueError:\n",
    "            print(\"Veuillez entrer un numéro valide.\")\n",
    "\n",
    "def generate_dockerfile(python_version, workdir, django_project_name,hostname):\n",
    "    dockerfile_content = f\"\"\"\n",
    "FROM python:{python_version}\n",
    "\n",
    "ENV workdir={workdir}\n",
    "ENV DJANGO_PROJECT_NAME={django_project_name}\n",
    "ENV hostname={hostname}\n",
    "\n",
    "RUN mkdir -p {workdir}/{django_project_name}\n",
    "\n",
    "COPY {django_project_name} {workdir}/{django_project_name}\n",
    "\n",
    "RUN apt-get update -y; \\\\  \n",
    "    apt-get update --no-cache-dir -y; \\\\\n",
    "    apt-get -o APT::Install-Recommends=false upgrade; \\\\\n",
    "    mkdir -p {workdir}/{django_project_name}/static; \\\\\n",
    "    pip install --upgrade pip && \\\\\n",
    "    pip install -r {workdir}/{django_project_name}/requirements.txt && \\\\\n",
    "    pip install uvicorn && \\\\\n",
    "    python3 {workdir}/{django_project_name}/manage.py collectstatic --noinput\n",
    "    \n",
    "RUN apt-get remove --purge pip && \\\\\n",
    "    apt-get autoremove\n",
    "\n",
    "EXPOSE 8000\n",
    "\n",
    "CMD [\"bash\", \"-c\", \"cd {workdir}/{django_project_name} && uvicorn {django_project_name}.asgi:application --host 0.0.0.0 --port 8000\"]\n",
    "\"\"\"\n",
    "    return dockerfile_content\n",
    "\n",
    "def main():\n",
    "    # Obtenir la liste des fichiers du répertoire courant\n",
    "    current_directory = os.getcwd()\n",
    "    project_files = [f for f in os.listdir(current_directory) if os.path.isdir(f)]\n",
    "\n",
    "    # Afficher la liste des projets disponibles\n",
    "    print(\"Projets disponibles dans le répertoire courant:\")\n",
    "    for i, project in enumerate(project_files, start=1):\n",
    "        print(f\"{i}. {project}\")\n",
    "\n",
    "    # Demander à l'utilisateur de choisir un projet\n",
    "    chosen_project = get_project_choice(project_files)\n",
    "\n",
    "    # Générer le contenu du Dockerfile\n",
    "    dockerfile_content = generate_dockerfile(python_version, workdir, chosen_project, hostname)\n",
    "\n",
    "    # Écrire le contenu dans un fichier Dockerfile\n",
    "    with open(\"Dockerfile\", \"w\") as dockerfile:\n",
    "        dockerfile.write(dockerfile_content)\n",
    "\n",
    "    print(\"Fichier Dockerfile généré avec succès.\")\n",
    "\n",
    "if __name__ == \"__main__\":\n",
    "    main()\n"
   ]
  },
  {
   "cell_type": "code",
   "execution_count": null,
   "id": "8d9f83c8-3bf0-4f4f-9627-69d3a30b9ac3",
   "metadata": {},
   "outputs": [],
   "source": []
  }
 ],
 "metadata": {
  "kernelspec": {
   "display_name": "Python 3 (ipykernel)",
   "language": "python",
   "name": "python3"
  },
  "language_info": {
   "codemirror_mode": {
    "name": "ipython",
    "version": 3
   },
   "file_extension": ".py",
   "mimetype": "text/x-python",
   "name": "python",
   "nbconvert_exporter": "python",
   "pygments_lexer": "ipython3",
   "version": "3.11.5"
  }
 },
 "nbformat": 4,
 "nbformat_minor": 5
}
