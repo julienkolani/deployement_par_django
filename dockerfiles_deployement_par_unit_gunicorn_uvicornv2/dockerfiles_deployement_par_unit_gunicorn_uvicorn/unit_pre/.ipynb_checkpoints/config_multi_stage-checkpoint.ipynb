{
 "cells": [
  {
   "cell_type": "code",
   "execution_count": null,
   "id": "637b9e81-675a-4daf-9f2a-1310096e389b",
   "metadata": {},
   "outputs": [],
   "source": [
    "# Stage 1: Construction de l'environnement virtuel et installation des dépendances Django\n",
    "FROM debian:bullseye-slim AS builder\n",
    "\n",
    "# Installation des outils nécessaires\n",
    "RUN apt-get update && apt-get install -y python3 python3-venv python3-pip\n",
    "\n",
    "# Création de l'environnement virtuel\n",
    "RUN python3 -m venv /my_app_venv\n",
    "\n",
    "# Copie des fichiers du projet Django dans le conteneur\n",
    "COPY my_app /my_app\n",
    "\n",
    "# Installation des dépendances Django dans l'environnement virtuel\n",
    "RUN /my_app_venv/bin/pip install -r /my_app/requirements.txt\n",
    "\n",
    "# Stage 2: Création du conteneur final\n",
    "FROM debian:bullseye-slim\n",
    "\n",
    "# Copie de l'environnement virtuel depuis le stage précédent\n",
    "COPY --from=builder /my_app_venv /my_app_venv\n",
    "\n",
    "# Copie du projet Django depuis le stage précédent\n",
    "COPY --from=builder /my_app /my_app\n",
    "\n",
    "# Configuration de l'exécution du projet Django dans le fichier .run.sh\n",
    "COPY run.sh /my_app/run.sh\n",
    "RUN chmod +x /my_app/run.sh\n",
    "\n",
    "# Définition du répertoire de travail\n",
    "WORKDIR /my_app\n",
    "\n",
    "# Exécution du fichier .run.sh lors du démarrage du conteneur\n",
    "CMD [\"./run.sh\"]\n"
   ]
  }
 ],
 "metadata": {
  "kernelspec": {
   "display_name": "Python 3 (ipykernel)",
   "language": "python",
   "name": "python3"
  },
  "language_info": {
   "codemirror_mode": {
    "name": "ipython",
    "version": 3
   },
   "file_extension": ".py",
   "mimetype": "text/x-python",
   "name": "python",
   "nbconvert_exporter": "python",
   "pygments_lexer": "ipython3",
   "version": "3.11.5"
  }
 },
 "nbformat": 4,
 "nbformat_minor": 5
}
