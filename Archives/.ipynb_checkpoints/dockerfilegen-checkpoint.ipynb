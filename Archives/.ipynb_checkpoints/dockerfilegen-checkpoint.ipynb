{
 "cells": [
  {
   "cell_type": "code",
   "execution_count": 9,
   "id": "565a6720-7c9d-426c-89ab-74ff256e2d4c",
   "metadata": {},
   "outputs": [
    {
     "name": "stdout",
     "output_type": "stream",
     "text": [
      "Fichier Dockerfile généré avec succès.\n"
     ]
    }
   ],
   "source": [
    "# Variables\n",
    "python_version = \"3.9.18-slim-bullseye\"\n",
    "workdir = \"/home/app\"\n",
    "django_project_name = \"test_app\"\n",
    "\n",
    "# Créer le contenu du Dockerfile\n",
    "dockerfile_content = f\"\"\"\n",
    "FROM python:{python_version}\n",
    "\n",
    "ENV workdir={workdir}\n",
    "ENV DJANGO_PROJECT_NAME={django_project_name}\n",
    "\n",
    "RUN mkdir -p {workdir}/{django_project_name}\n",
    "\n",
    "COPY {django_project_name} {workdir}/{django_project_name}\n",
    "\n",
    "RUN apt-get update && \\\\\n",
    "    mkdir -p {workdir}/{django_project_name}/static; \\\\\n",
    "    pip install --upgrade pip && \\\\\n",
    "    pip install -r {workdir}/{django_project_name}/requirements.txt && \\\\\n",
    "    pip install gunicorn && \\\\\n",
    "    python3 {workdir}/{django_project_name}/manage.py collectstatic --noinput\n",
    "\n",
    "EXPOSE 8000\n",
    "\n",
    "CMD [\"python3\", \"-m\", \"gunicorn\", \"-b\", \"0.0.0.0:8000\", \"--chdir\", \"{workdir}/{django_project_name}\", \"-k\", \"sync\", \"{django_project_name}.wsgi:application\"]\n",
    "\"\"\"\n",
    "\n",
    "# Écrire le contenu dans un fichier Dockerfile\n",
    "with open(\"Dockerfile\", \"w\") as dockerfile:\n",
    "    dockerfile.write(dockerfile_content)\n",
    "\n",
    "print(\"Fichier Dockerfile généré avec succès.\")\n"
   ]
  },
  {
   "cell_type": "code",
   "execution_count": 5,
   "id": "7b733969-59e6-4757-9276-c745a3ac3c19",
   "metadata": {},
   "outputs": [
    {
     "name": "stdout",
     "output_type": "stream",
     "text": [
      "Projets disponibles dans le répertoire courant:\n",
      "1. .git\n",
      "2. dockerfiles_deployement_par_unit_gunicorn_uvicorn\n",
      "3. .ipynb_checkpoints\n"
     ]
    },
    {
     "name": "stdin",
     "output_type": "stream",
     "text": [
      "Choisissez un numéro de projet (1, 2, ...) :  2\n"
     ]
    },
    {
     "name": "stdout",
     "output_type": "stream",
     "text": [
      "Fichier Dockerfile généré avec succès pour le projet 'dockerfiles_deployement_par_unit_gunicorn_uvicorn'.\n"
     ]
    }
   ],
   "source": [
    "import os\n",
    "\n",
    "# Obtenir la liste des fichiers du répertoire courant\n",
    "current_directory = os.getcwd()\n",
    "project_files = [f for f in os.listdir(current_directory) if os.path.isdir(f)]\n",
    "\n",
    "# Afficher la liste des projets disponibles\n",
    "print(\"Projets disponibles dans le répertoire courant:\")\n",
    "for i, project in enumerate(project_files, start=1):\n",
    "    print(f\"{i}. {project}\")\n",
    "\n",
    "# Demander à l'utilisateur de choisir un projet\n",
    "while True:\n",
    "    try:\n",
    "        choice = int(input(\"Choisissez un numéro de projet (1, 2, ...) : \"))\n",
    "        if 1 <= choice <= len(project_files):\n",
    "            django_project_name = project_files[choice - 1]\n",
    "            break\n",
    "        else:\n",
    "            print(\"Choix invalide. Veuillez choisir un numéro valide.\")\n",
    "    except ValueError:\n",
    "        print(\"Veuillez entrer un numéro valide.\")\n",
    "\n",
    "# Variables\n",
    "python_version = \"3.9.18-slim-bullseye\"\n",
    "workdir = \"/home/app\"\n",
    "\n",
    "# Créer le contenu du Dockerfile\n",
    "dockerfile_content = f\"\"\"\n",
    "FROM python:{python_version}\n",
    "\n",
    "ENV workdir={workdir}\n",
    "ENV DJANGO_PROJECT_NAME={django_project_name}\n",
    "\n",
    "RUN mkdir -p {workdir}/{django_project_name}\n",
    "\n",
    "COPY {django_project_name} {workdir}/{django_project_name}\n",
    "\n",
    "RUN apt-get update && \\\\\n",
    "    pip install --upgrade pip && \\\\\n",
    "    pip install -r {workdir}/{django_project_name}/requirements.txt && \\\\\n",
    "    pip install gunicorn\n",
    "\n",
    "EXPOSE 8000\n",
    "\n",
    "CMD [\"python3\", \"-m\", \"gunicorn\", \"-b\", \"0.0.0.0:8000\", \"--chdir\", \"{workdir}/{django_project_name}\", \"-k\", \"sync\", \"{django_project_name}.wsgi:application\"]\n",
    "\"\"\"\n",
    "\n",
    "# Écrire le contenu dans un fichier Dockerfile\n",
    "with open(\"Dockerfile\", \"w\") as dockerfile:\n",
    "    dockerfile.write(dockerfile_content)\n",
    "\n",
    "print(f\"Fichier Dockerfile généré avec succès pour le projet '{django_project_name}'.\")\n"
   ]
  },
  {
   "cell_type": "code",
   "execution_count": 7,
   "id": "b8803326-288e-4615-b56a-00d27d64e02d",
   "metadata": {},
   "outputs": [
    {
     "name": "stdout",
     "output_type": "stream",
     "text": [
      "Étapes de mise en production :\n",
      "-----------------------------\n"
     ]
    },
    {
     "name": "stdin",
     "output_type": "stream",
     "text": [
      "1. Avez-vous terminé l'étape 'Planification' ? (o/n):  o\n",
      "2. Avez-vous terminé l'étape 'Environnement serveur' ? (o/n):  n\n",
      "3. Avez-vous terminé l'étape 'Déploiement de code' ? (o/n):  o\n",
      "4. Avez-vous terminé l'étape 'Configuration de la base de données' ? (o/n):  n\n",
      "5. Avez-vous terminé l'étape 'Paramètres de sécurité' ? (o/n):  n\n",
      "6. Avez-vous terminé l'étape 'Collecte des fichiers statiques' ? (o/n):  n\n",
      "7. Avez-vous terminé l'étape 'Configuration du serveur web' ? (o/n):  n\n",
      "8. Avez-vous terminé l'étape 'Gestion des processus' ? (o/n):  n\n",
      "9. Avez-vous terminé l'étape 'Monitoring' ? (o/n):  g\n"
     ]
    },
    {
     "name": "stdout",
     "output_type": "stream",
     "text": [
      "Réponse invalide. Veuillez entrer 'o' pour Oui ou 'n' pour Non.\n"
     ]
    },
    {
     "name": "stdin",
     "output_type": "stream",
     "text": [
      "9. Avez-vous terminé l'étape 'Monitoring' ? (o/n):  b\n"
     ]
    },
    {
     "name": "stdout",
     "output_type": "stream",
     "text": [
      "Réponse invalide. Veuillez entrer 'o' pour Oui ou 'n' pour Non.\n"
     ]
    },
    {
     "name": "stdin",
     "output_type": "stream",
     "text": [
      "9. Avez-vous terminé l'étape 'Monitoring' ? (o/n):  n\n",
      "10. Avez-vous terminé l'étape 'Sécurité' ? (o/n):  \n"
     ]
    },
    {
     "name": "stdout",
     "output_type": "stream",
     "text": [
      "Réponse invalide. Veuillez entrer 'o' pour Oui ou 'n' pour Non.\n"
     ]
    },
    {
     "name": "stdin",
     "output_type": "stream",
     "text": [
      "10. Avez-vous terminé l'étape 'Sécurité' ? (o/n):  n\n",
      "11. Avez-vous terminé l'étape 'Sauvegardes' ? (o/n):  h\n"
     ]
    },
    {
     "name": "stdout",
     "output_type": "stream",
     "text": [
      "Réponse invalide. Veuillez entrer 'o' pour Oui ou 'n' pour Non.\n"
     ]
    },
    {
     "name": "stdin",
     "output_type": "stream",
     "text": [
      "11. Avez-vous terminé l'étape 'Sauvegardes' ? (o/n):  o\n",
      "12. Avez-vous terminé l'étape 'Mise à l'échelle' ? (o/n):  n\n",
      "13. Avez-vous terminé l'étape 'Documentation' ? (o/n):  n\n",
      "14. Avez-vous terminé l'étape 'Tests de production' ? (o/n):  n\n",
      "15. Avez-vous terminé l'étape 'Surveillance continue' ? (o/n):  o\n",
      "16. Avez-vous terminé l'étape 'Maintenance continue' ? (o/n):  o\n",
      "17. Avez-vous terminé l'étape 'Évolutivité' ? (o/n):  n\n"
     ]
    },
    {
     "name": "stdout",
     "output_type": "stream",
     "text": [
      "\n",
      "Résultats :\n",
      "------------\n",
      "Attention : Les étapes indispensables suivantes n'ont pas été validées :\n",
      "2. Environnement serveur : Installez un système d'exploitation, Python et configurez un serveur web (par exemple, Apache ou Nginx).\n",
      "4. Configuration de la base de données : Configurez une base de données (par exemple, PostgreSQL ou MySQL) sur le serveur et adaptez les paramètres Django.\n",
      "7. Configuration du serveur web : Configurez le serveur web pour servir votre application Django via un serveur WSGI (par exemple, Gunicorn ou uWSGI).\n",
      "9. Monitoring : Mettez en place des outils de surveillance pour suivre les performances de votre application (par exemple, New Relic ou Prometheus).\n",
      "13. Documentation : Documentez votre configuration et vos processus pour faciliter la maintenance et le dépannage.\n",
      "14. Tests de production : Effectuez des tests approfondis sur votre application en production.\n",
      "\n",
      "L'application peut être déployée, mais des étapes importantes manquent de validation.\n"
     ]
    }
   ],
   "source": [
    "# Liste des étapes de mise en production avec des explications\n",
    "etapes = [\n",
    "    (\"Créer le fichier requirement.txt\", \"Créez un fichier requirement.txt pour répertorier les dépendances Python de votre projet Django. Ces dépendances seront installées lors du déploiement.\"),\n",
    "    (\"Collecter les fichiers statiques\", \"Utilisez la commande `collectstatic` pour rassembler les fichiers statiques de votre application Django. Ces fichiers sont nécessaires pour servir les ressources statiques telles que les images, les feuilles de style et les scripts.\"),\n",
    "    (\"Créer les fichiers .env\", \"Créez des fichiers .env pour stocker des variables d'environnement comme les clés secrètes, les informations de base de données et d'autres paramètres sensibles.\"),\n",
    "    (\"Configurer le nom de domaine ou l'IP du container dans allowed hosts\", \"Ajoutez le nom de domaine ou l'adresse IP du serveur dans la liste des allowed hosts de votre application Django. Cela permet à l'application d'accepter les requêtes provenant de ce domaine ou de cette IP.\"),\n",
    "    (\"Choix de la solution de déploiement\", \"Choisissez la solution de déploiement qui convient le mieux à votre projet, que ce soit un serveur dédié, un service de cloud ou un conteneur Docker.\"),\n",
    "    (\"Mettre le projet dans le même répertoire que le bon Dockerfile\", \"Assurez-vous que votre projet Django est correctement organisé dans le même répertoire que le fichier Dockerfile approprié, si vous utilisez Docker pour le déploiement.\"),\n",
    "    (\"Configuration de la base de données\", \"Configurez une base de données compatible avec Django, comme PostgreSQL ou MySQL, sur le serveur de déploiement. Adaptez les paramètres Django pour qu'ils correspondent à la configuration de la base de données.\"),\n",
    "    (\"Paramètres de sécurité - Vérifier si aucune donnée importante n'est dans le settings.py\", \"Assurez-vous qu'aucune information sensible, telle que des clés secrètes ou des informations de base de données, ne se trouve directement dans le fichier settings.py de votre projet Django. Utilisez des variables d'environnement pour stocker ces informations de manière sécurisée.\"),\n",
    "    (\"Configuration du serveur web proxy Nginx\", \"Configurez un serveur web proxy comme Nginx pour gérer les requêtes HTTP et les rediriger vers l'application Django via un serveur WSGI comme Gunicorn ou uWSGI. Cela permet de servir votre application de manière efficace et sécurisée.\")\n",
    "]\n",
    "\n",
    "# Liste des étapes indispensables\n",
    "etapes_indispensables = [1, 2, 3, 4, 5, 6, 7, 8, 9]\n",
    "\n",
    "# Liste pour stocker les étapes non validées\n",
    "etapes_non_validees = []\n",
    "\n",
    "# Affichage des étapes avec des explications\n",
    "print(\"Étapes de mise en production :\")\n",
    "print(\"-----------------------------\")\n",
    "for i, (etape, explication) in enumerate(etapes, start=1):\n",
    "    while True:\n",
    "        reponse = input(f\"{i}. Avez-vous terminé l'étape '{etape}' ? (o/n): \").strip().lower()\n",
    "        if reponse == 'o':\n",
    "            break\n",
    "        elif reponse == 'n':\n",
    "            etapes_non_validees.append((i, etape))\n",
    "            break\n",
    "        else:\n",
    "            print(\"Réponse invalide. Veuillez entrer 'o' pour Oui ou 'n' pour Non.\")\n",
    "\n",
    "# Vérification des étapes indispensables\n",
    "etapes_indispensables_non_validees = [etape for etape in etapes_indispensables if etape in [i for i, _ in etapes_non_validees]]\n",
    "\n",
    "# Affichage des résultats avec des explications\n",
    "print(\"\\nRésultats :\")\n",
    "print(\"------------\")\n",
    "if etapes_indispensables_non_validees:\n",
    "    print(\"Erreur : Toutes les étapes indispensables n'ont pas été validées. Le déploiement ne peut pas être effectué.\")\n",
    "    print(\"Tâches non validées :\")\n",
    "    for i, etape in etapes_non_validees:\n",
    "        print(f\"{i}. {etape}\")\n",
    "elif etapes_non_validees:\n",
    "    print(\"Avertissement : Toutes les étapes n'ont pas été validées. Le déploiement peut être effectué, mais certaines tâches restent à compléter.\")\n",
    "    print(\"Tâches non validées :\")\n",
    "    for i, etape in etapes_non_validees:\n",
    "        print(f\"{i}. {etape}\")\n",
    "else:\n",
    "    print(\"Toutes les tâches ont été validées. Le déploiement peut être effectué avec succès.\")\n"
   ]
  },
  {
   "cell_type": "code",
   "execution_count": 7,
   "id": "bc8e1be6-40e5-4b01-b83a-a0e497d8afde",
   "metadata": {},
   "outputs": [
    {
     "name": "stdout",
     "output_type": "stream",
     "text": [
      "Étapes de mise en production :\n",
      "-----------------------------\n"
     ]
    },
    {
     "name": "stdin",
     "output_type": "stream",
     "text": [
      "1. Avez-vous terminé l'étape 'Planification' ? (o/n):  o\n",
      "2. Avez-vous terminé l'étape 'Environnement serveur' ? (o/n):  n\n",
      "3. Avez-vous terminé l'étape 'Déploiement de code' ? (o/n):  o\n",
      "4. Avez-vous terminé l'étape 'Configuration de la base de données' ? (o/n):  n\n",
      "5. Avez-vous terminé l'étape 'Paramètres de sécurité' ? (o/n):  n\n",
      "6. Avez-vous terminé l'étape 'Collecte des fichiers statiques' ? (o/n):  n\n",
      "7. Avez-vous terminé l'étape 'Configuration du serveur web' ? (o/n):  n\n",
      "8. Avez-vous terminé l'étape 'Gestion des processus' ? (o/n):  n\n",
      "9. Avez-vous terminé l'étape 'Monitoring' ? (o/n):  g\n"
     ]
    },
    {
     "name": "stdout",
     "output_type": "stream",
     "text": [
      "Réponse invalide. Veuillez entrer 'o' pour Oui ou 'n' pour Non.\n"
     ]
    },
    {
     "name": "stdin",
     "output_type": "stream",
     "text": [
      "9. Avez-vous terminé l'étape 'Monitoring' ? (o/n):  b\n"
     ]
    },
    {
     "name": "stdout",
     "output_type": "stream",
     "text": [
      "Réponse invalide. Veuillez entrer 'o' pour Oui ou 'n' pour Non.\n"
     ]
    },
    {
     "name": "stdin",
     "output_type": "stream",
     "text": [
      "9. Avez-vous terminé l'étape 'Monitoring' ? (o/n):  n\n",
      "10. Avez-vous terminé l'étape 'Sécurité' ? (o/n):  \n"
     ]
    },
    {
     "name": "stdout",
     "output_type": "stream",
     "text": [
      "Réponse invalide. Veuillez entrer 'o' pour Oui ou 'n' pour Non.\n"
     ]
    },
    {
     "name": "stdin",
     "output_type": "stream",
     "text": [
      "10. Avez-vous terminé l'étape 'Sécurité' ? (o/n):  n\n",
      "11. Avez-vous terminé l'étape 'Sauvegardes' ? (o/n):  h\n"
     ]
    },
    {
     "name": "stdout",
     "output_type": "stream",
     "text": [
      "Réponse invalide. Veuillez entrer 'o' pour Oui ou 'n' pour Non.\n"
     ]
    },
    {
     "name": "stdin",
     "output_type": "stream",
     "text": [
      "11. Avez-vous terminé l'étape 'Sauvegardes' ? (o/n):  o\n",
      "12. Avez-vous terminé l'étape 'Mise à l'échelle' ? (o/n):  n\n",
      "13. Avez-vous terminé l'étape 'Documentation' ? (o/n):  n\n",
      "14. Avez-vous terminé l'étape 'Tests de production' ? (o/n):  n\n",
      "15. Avez-vous terminé l'étape 'Surveillance continue' ? (o/n):  o\n",
      "16. Avez-vous terminé l'étape 'Maintenance continue' ? (o/n):  o\n",
      "17. Avez-vous terminé l'étape 'Évolutivité' ? (o/n):  n\n"
     ]
    },
    {
     "name": "stdout",
     "output_type": "stream",
     "text": [
      "\n",
      "Résultats :\n",
      "------------\n",
      "Attention : Les étapes indispensables suivantes n'ont pas été validées :\n",
      "2. Environnement serveur : Installez un système d'exploitation, Python et configurez un serveur web (par exemple, Apache ou Nginx).\n",
      "4. Configuration de la base de données : Configurez une base de données (par exemple, PostgreSQL ou MySQL) sur le serveur et adaptez les paramètres Django.\n",
      "7. Configuration du serveur web : Configurez le serveur web pour servir votre application Django via un serveur WSGI (par exemple, Gunicorn ou uWSGI).\n",
      "9. Monitoring : Mettez en place des outils de surveillance pour suivre les performances de votre application (par exemple, New Relic ou Prometheus).\n",
      "13. Documentation : Documentez votre configuration et vos processus pour faciliter la maintenance et le dépannage.\n",
      "14. Tests de production : Effectuez des tests approfondis sur votre application en production.\n",
      "\n",
      "L'application peut être déployée, mais des étapes importantes manquent de validation.\n"
     ]
    }
   ],
   "source": [
    "from colorama import Fore, Style\n",
    "\n",
    "# Liste des étapes de mise en production avec des explications\n",
    "etapes = [\n",
    "    (\"Créer le fichier requirement.txt\", \"Créez un fichier requirement.txt pour répertorier les dépendances Python de votre projet Django. Ces dépendances seront installées lors du déploiement.\"),\n",
    "    (\"Collecter les fichiers statiques\", \"Utilisez la commande `collectstatic` pour rassembler les fichiers statiques de votre application Django. Ces fichiers sont nécessaires pour servir les ressources statiques telles que les images, les feuilles de style et les scripts.\"),\n",
    "    (\"Créer les fichiers .env\", \"Créez des fichiers .env pour stocker des variables d'environnement comme les clés secrètes, les informations de base de données et d'autres paramètres sensibles.\"),\n",
    "    (\"Configurer le nom de domaine ou l'IP du container dans allowed hosts\", \"Ajoutez le nom de domaine ou l'adresse IP du serveur dans la liste des allowed hosts de votre application Django. Cela permet à l'application d'accepter les requêtes provenant de ce domaine ou de cette IP.\"),\n",
    "    (\"Choix de la solution de déploiement\", \"Choisissez la solution de déploiement qui convient le mieux à votre projet, que ce soit un serveur dédié, un service de cloud ou un conteneur Docker.\"),\n",
    "    (\"Mettre le projet dans le même répertoire que le bon Dockerfile\", \"Assurez-vous que votre projet Django est correctement organisé dans le même répertoire que le fichier Dockerfile approprié, si vous utilisez Docker pour le déploiement.\"),\n",
    "    (\"Configuration de la base de données\", \"Configurez une base de données compatible avec Django, comme PostgreSQL ou MySQL, sur le serveur de déploiement. Adaptez les paramètres Django pour qu'ils correspondent à la configuration de la base de données.\"),\n",
    "    (\"Paramètres de sécurité - Vérifier si aucune donnée importante n'est dans le settings.py\", \"Assurez-vous qu'aucune information sensible, telle que des clés secrètes ou des informations de base de données, ne se trouve directement dans le fichier settings.py de votre projet Django. Utilisez des variables d'environnement pour stocker ces informations de manière sécurisée.\"),\n",
    "    (\"Configuration du serveur web proxy Nginx\", \"Configurez un serveur web proxy comme Nginx pour gérer les requêtes HTTP et les rediriger vers l'application Django via un serveur WSGI comme Gunicorn ou uWSGI. Cela permet de servir votre application de manière efficace et sécurisée.\")\n",
    "]\n",
    "\n",
    "# Liste des étapes indispensables\n",
    "etapes_indispensables = [1, 2, 3, 4, 5, 6, 7, 8, 9]\n",
    "\n",
    "# Liste pour stocker les étapes non validées\n",
    "etapes_non_validees = []\n",
    "\n",
    "# Affichage des étapes avec des explications\n",
    "print(\"Étapes de mise en production :\")\n",
    "print(\"-----------------------------\")\n",
    "for i, (etape, explication) in enumerate(etapes, start=1):\n",
    "    while True:\n",
    "        reponse = input(f\"{i}. Avez-vous terminé l'étape '{etape}' ? (o/n): \").strip().lower()\n",
    "        if reponse == 'o':\n",
    "            break\n",
    "        elif reponse == 'n':\n",
    "            etapes_non_validees.append((i, etape))\n",
    "            break\n",
    "        else:\n",
    "            print(\"Réponse invalide. Veuillez entrer 'o' pour Oui ou 'n' pour Non.\")\n",
    "\n",
    "# Vérification des étapes indispensables\n",
    "etapes_indispensables_non_validees = [etape for etape in etapes_indispensables if etape in [i for i, _ in etapes_non_validees]]\n",
    "\n",
    "# Affichage des résultats avec des explications et couleurs\n",
    "print(\"\\nRésultats :\")\n",
    "print(\"------------\")\n",
    "if etapes_indispensables_non_validees:\n",
    "    print(Fore.RED + \"Erreur : Toutes les étapes indispensables n'ont pas été validées. Le déploiement ne peut pas être effectué.\")\n",
    "    print(Fore.YELLOW + \"Tâches non validées :\")\n",
    "    for i, etape in etapes_non_validees:\n",
    "        print(Fore.YELLOW + f\"{i}. {etape}\")\n",
    "    print(Style.RESET_ALL)  # Réinitialiser la couleur\n",
    "elif etapes_non_validees:\n",
    "    print(Fore.YELLOW + \"Avertissement : Toutes les étapes n'ont pas été validées. Le déploiement peut être effectué, mais certaines tâches restent à compléter.\")\n",
    "    print(Fore.YELLOW + \"Tâches non validées :\")\n",
    "    for i, etape in etapes_non_validees:\n",
    "        print(Fore.YELLOW + f\"{i}. {etape}\")\n",
    "    print(Style.RESET_ALL)  # Réinitialiser la couleur\n",
    "else:\n",
    "    print(Fore.GREEN + \"Toutes les tâches ont été validées. Le déploiement peut être effectué avec succès.\")\n",
    "    print(Style.RESET_ALL)  # Réinitialiser la couleur"
   ]
  },
  {
   "cell_type": "code",
   "execution_count": null,
   "id": "db105f3e-9e59-4ca9-81b5-2c6807593ab6",
   "metadata": {},
   "outputs": [],
   "source": []
  },
  {
   "cell_type": "code",
   "execution_count": 10,
   "id": "bf45f15d-6fc6-4200-958c-45a2407ed9af",
   "metadata": {},
   "outputs": [
    {
     "name": "stdout",
     "output_type": "stream",
     "text": [
      "<class 'str'>\n"
     ]
    }
   ],
   "source": [
    "import socket\n",
    "\n",
    "def get_ip_address():\n",
    "    \"\"\"Récupère l'adresse IP d'une machine.\"\"\"\n",
    "\n",
    "    # Obtenir l'adresse IP de l'interface par défaut\n",
    "    host = socket.gethostbyname(socket.gethostname())\n",
    "\n",
    "    return host\n",
    "\n",
    "\n",
    "if __name__ == \"__main__\":\n",
    "    # Afficher l'adresse IP\n",
    "    print(type(get_ip_address()))\n"
   ]
  },
  {
   "cell_type": "code",
   "execution_count": null,
   "id": "5e9710e1-8fd2-49a7-bb89-7c4e6e7dc4af",
   "metadata": {},
   "outputs": [],
   "source": []
  }
 ],
 "metadata": {
  "kernelspec": {
   "display_name": "Python 3 (ipykernel)",
   "language": "python",
   "name": "python3"
  },
  "language_info": {
   "codemirror_mode": {
    "name": "ipython",
    "version": 3
   },
   "file_extension": ".py",
   "mimetype": "text/x-python",
   "name": "python",
   "nbconvert_exporter": "python",
   "pygments_lexer": "ipython3",
   "version": "3.11.5"
  }
 },
 "nbformat": 4,
 "nbformat_minor": 5
}
