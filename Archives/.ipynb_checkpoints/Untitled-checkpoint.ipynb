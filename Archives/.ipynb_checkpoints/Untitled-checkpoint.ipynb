{
 "cells": [
  {
   "cell_type": "code",
   "execution_count": 2,
   "id": "f29b00c9-636b-4541-ab3f-331509a94fa4",
   "metadata": {},
   "outputs": [
    {
     "name": "stdout",
     "output_type": "stream",
     "text": [
      "Projets disponibles dans le répertoire courant:\n",
      "1. .git\n",
      "2. dockerfiles_deployement_par_unit_gunicorn_uvicorn\n",
      "3. .ipynb_checkpoints\n"
     ]
    },
    {
     "name": "stdin",
     "output_type": "stream",
     "text": [
      "Choisissez un numéro de projet (1, 2, ...) :  2\n"
     ]
    },
    {
     "name": "stdout",
     "output_type": "stream",
     "text": [
      "Fichier Dockerfile généré avec succès.\n"
     ]
    }
   ],
   "source": [
    "import os\n",
    "\n",
    "# Obtenir la liste des fichiers du répertoire courant\n",
    "current_directory = os.getcwd()\n",
    "project_files = [f for f in os.listdir(current_directory) if os.path.isdir(f)]\n",
    "\n",
    "# Afficher la liste des projets disponibles\n",
    "print(\"Projets disponibles dans le répertoire courant:\")\n",
    "for i, project in enumerate(project_files, start=1):\n",
    "    print(f\"{i}. {project}\")\n",
    "\n",
    "# Demander à l'utilisateur de choisir un projet\n",
    "while True:\n",
    "    try:\n",
    "        choice = int(input(\"Choisissez un numéro de projet (1, 2, ...) : \"))\n",
    "        if 1 <= choice <= len(project_files):\n",
    "            django_project_name = project_files[choice - 1]\n",
    "            break\n",
    "        else:\n",
    "            print(\"Choix invalide. Veuillez choisir un numéro valide.\")\n",
    "    except ValueError:\n",
    "        print(\"Veuillez entrer un numéro valide.\")\n",
    "\n",
    "# Variables\n",
    "python_version = \"3.9.18-slim-bullseye\"\n",
    "workdir = \"/home/app\"\n",
    "\n",
    "# Créer le contenu du Dockerfile\n",
    "dockerfile_content = f\"\"\"\n",
    "FROM python:{python_version}\n",
    "\n",
    "ENV workdir={workdir}\n",
    "ENV DJANGO_PROJECT_NAME={django_project_name}\n",
    "\n",
    "RUN mkdir -p /home/app/{django_project_name}\n",
    "\n",
    "COPY {django_project_name} /home/app/{django_project_name}\n",
    "\n",
    "COPY get_ip_address.py /home/app/{django_project_name}/{django_project_name}\n",
    "\n",
    "RUN apt-get update && \\\\\n",
    "    mkdir -p /home/app/{django_project_name}/static; \\\\\n",
    "    pip install --upgrade pip && \\\\\n",
    "    pip install -r /home/app/{django_project_name}/requirements.txt && \\\\\n",
    "    pip install gunicorn && \\\\\n",
    "    python3 /home/app/{django_project_name}/manage.py collectstatic --noinput\n",
    "\n",
    "EXPOSE 8000\n",
    "\n",
    "CMD [\"python3\", \"-m\", \"gunicorn\", \"-b\", \"0.0.0.0:8000\", \"--chdir\", \"/home/app/{django_project_name}\", \"-k\", \"sync\", \"{django_project_name}.wsgi:application\"]\n",
    "\"\"\"\n",
    "\n",
    "# Écrire le contenu dans un fichier Dockerfile\n",
    "with open(\"Dockerfile\", \"w\") as dockerfile:\n",
    "    dockerfile.write(dockerfile_content)\n",
    "\n",
    "print(\"Fichier Dockerfile généré avec succès.\")\n"
   ]
  },
  {
   "cell_type": "code",
   "execution_count": 3,
   "id": "c9b81157-203e-4998-a4a4-ea9e15a787d0",
   "metadata": {},
   "outputs": [
    {
     "name": "stdout",
     "output_type": "stream",
     "text": [
      "\n",
      "Bienvenue dans l'assistant de déploiement\n",
      "=========================================\n",
      "Choisissez une procédure de déploiement :\n",
      "1. UNIT\n",
      "2. GUNICORN UVICORN\n"
     ]
    },
    {
     "name": "stdin",
     "output_type": "stream",
     "text": [
      "Votre choix (1/2) :  1\n"
     ]
    },
    {
     "name": "stdout",
     "output_type": "stream",
     "text": [
      "\n",
      "Procedure de deployement UNIT :\n",
      "===============================\n",
      "1. Copier le fichier ./run.sh, dockerfile_gen.py et le projet dans le même répertoire.\n",
      "2. Modifier le fichier settings.py pour avoir :\n",
      "   allowed_hosts = [get_ip_address.get_ip()]\n",
      "3. Vérifier si tout est en place avec Procedure_deployement.py.\n",
      "4. Générer le Dockerfile.\n",
      "5. Lancer la création de l'image Docker avec :\n",
      "   docker build -t nom_container .\n",
      "6. Lancer l'image pour avoir un container avec :\n",
      "   docker run --name nom_container -p 8001:8000 nom_image:version\n"
     ]
    }
   ],
   "source": [
    "def print_title(title):\n",
    "    print(f\"\\n{title}\\n{'=' * len(title)}\")\n",
    "\n",
    "def unit_procedure():\n",
    "    print_title(\"Procedure de deployement UNIT :\")\n",
    "    print(\"1. Copier le fichier ./run.sh, dockerfile_gen.py et le projet dans le même répertoire.\")\n",
    "    print(\"2. Modifier le fichier settings.py pour avoir :\")\n",
    "    print(\"   allowed_hosts = [get_ip_address.get_ip()]\")\n",
    "    print(\"3. Vérifier si tout est en place avec Procedure_deployement.py.\")\n",
    "    print(\"4. Générer le Dockerfile.\")\n",
    "    print(\"5. Lancer la création de l'image Docker avec :\")\n",
    "    print(\"   docker build -t nom_container .\")\n",
    "    print(\"6. Lancer l'image pour avoir un container avec :\")\n",
    "    print(\"   docker run --name nom_container -p 8001:8000 nom_image:version\")\n",
    "\n",
    "def gunicorn_uvicorn_procedure():\n",
    "    print_title(\"Procedure de deployement GUNICORN UVICORN :\")\n",
    "    print(\"1. Modifier le fichier settings.py pour avoir :\")\n",
    "    print(\"   allowed_hosts = [get_ip_address.get_ip()]\")\n",
    "    print(\"2. Vérifier si tout est en place avec Procedure_deployement.py.\")\n",
    "    print(\"3. Générer le Dockerfile d'après le bon script, soit uvicorn ou gunicorn.\")\n",
    "    print(\"4. Lancer la création de l'image Docker avec :\")\n",
    "    print(\"   docker build -t nom_container .\")\n",
    "    print(\"5. Lancer l'image pour avoir un container avec :\")\n",
    "    print(\"   docker run --name nom_container -p 8001:8000 nom_image:version\")\n",
    "\n",
    "if __name__ == \"__main__\":\n",
    "    print_title(\"Bienvenue dans l'assistant de déploiement\")\n",
    "    print(\"Choisissez une procédure de déploiement :\")\n",
    "    print(\"1. UNIT\")\n",
    "    print(\"2. GUNICORN UVICORN\")\n",
    "    \n",
    "    choice = input(\"Votre choix (1/2) : \")\n",
    "\n",
    "    if choice == \"1\":\n",
    "        unit_procedure()\n",
    "    elif choice == \"2\":\n",
    "        gunicorn_uvicorn_procedure()\n",
    "    else:\n",
    "        print(\"Choix invalide. Veuillez choisir 1 ou 2.\")\n"
   ]
  },
  {
   "cell_type": "code",
   "execution_count": null,
   "id": "96a6e7e2-d7d0-4829-a15f-170282c3feb4",
   "metadata": {},
   "outputs": [],
   "source": []
  }
 ],
 "metadata": {
  "kernelspec": {
   "display_name": "Python 3 (ipykernel)",
   "language": "python",
   "name": "python3"
  },
  "language_info": {
   "codemirror_mode": {
    "name": "ipython",
    "version": 3
   },
   "file_extension": ".py",
   "mimetype": "text/x-python",
   "name": "python",
   "nbconvert_exporter": "python",
   "pygments_lexer": "ipython3",
   "version": "3.11.5"
  }
 },
 "nbformat": 4,
 "nbformat_minor": 5
}
